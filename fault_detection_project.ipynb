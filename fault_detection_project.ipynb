{
  "nbformat": 4,
  "nbformat_minor": 0,
  "metadata": {
    "colab": {
      "name": "fault_detection_project.ipynb",
      "provenance": [],
      "toc_visible": true,
      "authorship_tag": "ABX9TyPR+h0F1P5l1WgWKTKdWvc1",
      "include_colab_link": true
    },
    "kernelspec": {
      "name": "python3",
      "display_name": "Python 3"
    }
  },
  "cells": [
    {
      "cell_type": "markdown",
      "metadata": {
        "id": "view-in-github",
        "colab_type": "text"
      },
      "source": [
        "<a href=\"https://colab.research.google.com/github/milanzongor/fault_detection_project/blob/master/fault_detection_project.ipynb\" target=\"_parent\"><img src=\"https://colab.research.google.com/assets/colab-badge.svg\" alt=\"Open In Colab\"/></a>"
      ]
    },
    {
      "cell_type": "markdown",
      "metadata": {
        "id": "mbF5_GQuJFeB",
        "colab_type": "text"
      },
      "source": [
        "#Sensor fault detection using machine learning"
      ]
    },
    {
      "cell_type": "markdown",
      "metadata": {
        "id": "tRU8_NzaJoW2",
        "colab_type": "text"
      },
      "source": [
        "##Assignment\n",
        "**47 Detekce poruch senzorů pomocí strojového učení B**\n",
        "\n",
        "Navrhněte metodu pro detekci poruch senzorů (drift, offset, občasné\n",
        "vychýlené hodnoty) s využitím dodaných dlouhých časových řad dat z\n",
        "různých senzorů rodinného domu.\n",
        "\n",
        "Data stáhněte z:\n",
        "https://drive.google.com/drive/u/1/folders/1NuBf9n8XOYr_wH1IdUJoKNnhUJUvndSD\n",
        "\n",
        "Označení sloupců rozkódujte pomocí možného významu dle přiloženého\n",
        "souboru TXT. Prověřte, zda data neobsahují \"impulsní\" extrémní hodnoty,\n",
        "výpadky a NaN, pokud ano, vyřaďte je nebo interpolujte. Jinak považujte\n",
        "data za správná, tj. bez driftu a offsetu.\n",
        "\n",
        "Můžete využít typické časové chování sinálů i vztahy mezi různými signály."
      ]
    },
    {
      "cell_type": "markdown",
      "metadata": {
        "id": "fAV644IwJ_yw",
        "colab_type": "text"
      },
      "source": [
        "##Coding part"
      ]
    },
    {
      "cell_type": "code",
      "metadata": {
        "id": "cmOKpPIXJEAl",
        "colab_type": "code",
        "colab": {}
      },
      "source": [
        ""
      ],
      "execution_count": 0,
      "outputs": []
    }
  ]
}